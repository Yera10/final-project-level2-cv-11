{
 "cells": [
  {
   "attachments": {},
   "cell_type": "markdown",
   "metadata": {},
   "source": [
    "# 폰트 예시 파일 생성"
   ]
  },
  {
   "cell_type": "code",
   "execution_count": 1,
   "metadata": {},
   "outputs": [],
   "source": [
    "import os\n",
    "import json\n",
    "from PIL import Image,ImageDraw,ImageFont"
   ]
  },
  {
   "cell_type": "code",
   "execution_count": 36,
   "metadata": {},
   "outputs": [],
   "source": [
    "def createDirectory(directory):\n",
    "    try:\n",
    "        if not os.path.exists(directory):\n",
    "            os.makedirs(directory)\n",
    "    except OSError:\n",
    "        print(\"Error: Failed to create the directory.\")\n",
    "\n",
    "def create_font(font_list, font_name, text_width, text_height, save_path, text):\n",
    "    \n",
    "    for font, name in zip(font_list, font_name):\n",
    "        # 이미지 객체 생성 (배경 검정)\n",
    "        canvas = Image.new('RGB', (text_width, text_height), \"white\")\n",
    "        \n",
    "        # 가운데에 그리기 (폰트 색: 하양)\n",
    "        draw = ImageDraw.Draw(canvas)\n",
    "        w, h = font.getsize(text)\n",
    "        draw.text(((text_width-w)/20.0,(text_height-h)/2.5), text, 'black', font)\n",
    "        \n",
    "        # png로 저장 및 출력해서 보기\n",
    "        canvas.save(os.path.join(save_path, name.split(\".\")[0] + '.png'), \"PNG\")\n",
    "        canvas.show()"
   ]
  },
  {
   "cell_type": "code",
   "execution_count": 40,
   "metadata": {},
   "outputs": [],
   "source": [
    "## 폰트 파일 위치\n",
    "font_path = '/opt/level3_productserving-level3-cv-11/data/fonts/typical'\n",
    "\n",
    "\n",
    "font_name = os.listdir(font_path)\n",
    "save_path = os.path.join(\"./font_ex\") # 저장 위치\n",
    "\n",
    "createDirectory(save_path)\n",
    "text = \"다람쥐 헌 쳇바퀴에 타고파!\\n The quick brown fox jumps over the lazy dog?\" # 예시 문장\n",
    "\n",
    "\n",
    "font_list = [ImageFont.truetype(os.path.join(font_path, name), 20) for name in font_name]\n",
    "create_font(font_list, font_name, 700, 75, save_path, text)"
   ]
  }
 ],
 "metadata": {
  "kernelspec": {
   "display_name": "base",
   "language": "python",
   "name": "python3"
  },
  "language_info": {
   "codemirror_mode": {
    "name": "ipython",
    "version": 3
   },
   "file_extension": ".py",
   "mimetype": "text/x-python",
   "name": "python",
   "nbconvert_exporter": "python",
   "pygments_lexer": "ipython3",
   "version": "3.8.5"
  },
  "orig_nbformat": 4,
  "vscode": {
   "interpreter": {
    "hash": "d4d1e4263499bec80672ea0156c357c1ee493ec2b1c70f0acce89fc37c4a6abe"
   }
  }
 },
 "nbformat": 4,
 "nbformat_minor": 2
}
