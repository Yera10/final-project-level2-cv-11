{
 "cells": [
  {
   "attachments": {},
   "cell_type": "markdown",
   "metadata": {},
   "source": [
    "# txt2json"
   ]
  },
  {
   "cell_type": "code",
   "execution_count": 2,
   "metadata": {},
   "outputs": [],
   "source": [
    "import json\n",
    "import os"
   ]
  },
  {
   "attachments": {},
   "cell_type": "markdown",
   "metadata": {},
   "source": [
    "### 한글 txt2json"
   ]
  },
  {
   "cell_type": "code",
   "execution_count": 49,
   "metadata": {},
   "outputs": [],
   "source": [
    "file = open(\"/opt/level3_productserving-level3-cv-11/data/words/ko/ko.txt\", \"r\")\n",
    "Strings = file.read()\n",
    "a = [x for x in Strings]\n",
    "a\n",
    "\n",
    "d = {\n",
    "    \"lang\": 'ko',\n",
    "    \"length\": len(a),\n",
    "    \"character\": a\n",
    "        }\n",
    "\n",
    "\n",
    "file = open(\"/opt/level3_productserving-level3-cv-11/data/words/others/others.txt\", \"r\")\n",
    "Strings = file.read()\n",
    "b = [x for x in Strings]\n",
    "f = {\n",
    "    \"lang\": 'oth',\n",
    "    \"length\": len(b),\n",
    "    \"character\": b\n",
    "        }\n",
    "\n",
    "e  = {\n",
    "    \"words\": d,\n",
    "    \"punctuation\": f\n",
    "}\n",
    "    \n",
    "with open('/opt/level3_productserving-level3-cv-11/data/words/ko/ko.json', 'w', encoding='utf-8') as make_file:\n",
    "    json.dump(e, make_file, indent=\"\\t\", ensure_ascii=False)\n"
   ]
  },
  {
   "attachments": {},
   "cell_type": "markdown",
   "metadata": {},
   "source": [
    "### 영어 txt2json"
   ]
  },
  {
   "cell_type": "code",
   "execution_count": 51,
   "metadata": {},
   "outputs": [],
   "source": [
    "file = open(\"/opt/level3_productserving-level3-cv-11/data/words/en/en.txt\", \"r\")\n",
    "Strings = file.read()\n",
    "a = [x for x in Strings]\n",
    "a\n",
    "\n",
    "d = {\n",
    "    \"lang\": 'en',\n",
    "    \"length\": len(a),\n",
    "    \"character\": a\n",
    "        }\n",
    "\n",
    "\n",
    "file = open(\"/opt/level3_productserving-level3-cv-11/data/words/others/others.txt\", \"r\")\n",
    "Strings = file.read()\n",
    "b = [x for x in Strings]\n",
    "f = {\n",
    "    \"lang\": 'oth',\n",
    "    \"length\": len(b),\n",
    "    \"character\": b\n",
    "        }\n",
    "\n",
    "e  = {\n",
    "    \"words\": d,\n",
    "    \"punctuation\": f\n",
    "}\n",
    "    \n",
    "with open('/opt/level3_productserving-level3-cv-11/data/words/en/en.json', 'w', encoding='utf-8') as make_file:\n",
    "    json.dump(e, make_file, indent=\"\\t\", ensure_ascii=False)\n"
   ]
  }
 ],
 "metadata": {
  "kernelspec": {
   "display_name": "base",
   "language": "python",
   "name": "python3"
  },
  "language_info": {
   "codemirror_mode": {
    "name": "ipython",
    "version": 3
   },
   "file_extension": ".py",
   "mimetype": "text/x-python",
   "name": "python",
   "nbconvert_exporter": "python",
   "pygments_lexer": "ipython3",
   "version": "3.8.5 (default, Sep  4 2020, 07:30:14) \n[GCC 7.3.0]"
  },
  "orig_nbformat": 4,
  "vscode": {
   "interpreter": {
    "hash": "d4d1e4263499bec80672ea0156c357c1ee493ec2b1c70f0acce89fc37c4a6abe"
   }
  }
 },
 "nbformat": 4,
 "nbformat_minor": 2
}
